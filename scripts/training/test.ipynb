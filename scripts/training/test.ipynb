{
 "cells": [
  {
   "cell_type": "code",
   "execution_count": 2,
   "metadata": {},
   "outputs": [],
   "source": [
    "from data_generation import *"
   ]
  },
  {
   "cell_type": "code",
   "execution_count": 3,
   "metadata": {},
   "outputs": [
    {
     "name": "stdout",
     "output_type": "stream",
     "text": [
      "Loading source datasets from HuggingFace...\n",
      "Loading datasets:   0%|                                   | 0/5 [00:00<?, ?it/s]\n",
      "Loading dataset: electricity_hourly\n",
      "Warning: Could not load dataset electricity_hourly: BuilderConfig 'electricity_hourly' not found. Available: ['dominick', 'electricity_15min', 'ercot', 'exchange_rate', 'm4_daily', 'm4_hourly', 'm4_monthly', 'm4_quarterly', 'm4_weekly', 'm4_yearly', 'm5', 'mexico_city_bikes', 'monash_australian_electricity', 'monash_car_parts', 'monash_cif_2016', 'monash_covid_deaths', 'monash_electricity_hourly', 'monash_electricity_weekly', 'monash_fred_md', 'monash_hospital', 'monash_kdd_cup_2018', 'monash_london_smart_meters', 'monash_m1_monthly', 'monash_m1_quarterly', 'monash_m1_yearly', 'monash_m3_monthly', 'monash_m3_quarterly', 'monash_m3_yearly', 'monash_nn5_weekly', 'monash_pedestrian_counts', 'monash_rideshare', 'monash_saugeenday', 'monash_temperature_rain', 'monash_tourism_monthly', 'monash_tourism_quarterly', 'monash_tourism_yearly', 'monash_traffic', 'monash_weather', 'nn5', 'solar', 'solar_1h', 'taxi_1h', 'taxi_30min', 'training_corpus_kernel_synth_1m', 'training_corpus_tsmixup_10m', 'uber_tlc_daily', 'uber_tlc_hourly', 'ushcn_daily', 'weatherbench_daily', 'weatherbench_hourly_10m_u_component_of_wind', 'weatherbench_hourly_10m_v_component_of_wind', 'weatherbench_hourly_2m_temperature', 'weatherbench_hourly_geopotential', 'weatherbench_hourly_potential_vorticity', 'weatherbench_hourly_relative_humidity', 'weatherbench_hourly_specific_humidity', 'weatherbench_hourly_temperature', 'weatherbench_hourly_toa_incident_solar_radiation', 'weatherbench_hourly_total_cloud_cover', 'weatherbench_hourly_total_precipitation', 'weatherbench_hourly_u_component_of_wind', 'weatherbench_hourly_v_component_of_wind', 'weatherbench_hourly_vorticity', 'weatherbench_weekly', 'wiki_daily_100k', 'wind_farms_daily', 'wind_farms_hourly']\n",
      "Loading datasets:  20%|█████▍                     | 1/5 [00:03<00:14,  3.74s/it]\n",
      "Loading dataset: m4_hourly\n",
      "Loaded 414 series from m4_hourly\n",
      "Loading datasets:  40%|██████████▊                | 2/5 [00:05<00:07,  2.53s/it]\n",
      "Loading dataset: traffic\n",
      "Warning: Could not load dataset traffic: BuilderConfig 'traffic' not found. Available: ['dominick', 'electricity_15min', 'ercot', 'exchange_rate', 'm4_daily', 'm4_hourly', 'm4_monthly', 'm4_quarterly', 'm4_weekly', 'm4_yearly', 'm5', 'mexico_city_bikes', 'monash_australian_electricity', 'monash_car_parts', 'monash_cif_2016', 'monash_covid_deaths', 'monash_electricity_hourly', 'monash_electricity_weekly', 'monash_fred_md', 'monash_hospital', 'monash_kdd_cup_2018', 'monash_london_smart_meters', 'monash_m1_monthly', 'monash_m1_quarterly', 'monash_m1_yearly', 'monash_m3_monthly', 'monash_m3_quarterly', 'monash_m3_yearly', 'monash_nn5_weekly', 'monash_pedestrian_counts', 'monash_rideshare', 'monash_saugeenday', 'monash_temperature_rain', 'monash_tourism_monthly', 'monash_tourism_quarterly', 'monash_tourism_yearly', 'monash_traffic', 'monash_weather', 'nn5', 'solar', 'solar_1h', 'taxi_1h', 'taxi_30min', 'training_corpus_kernel_synth_1m', 'training_corpus_tsmixup_10m', 'uber_tlc_daily', 'uber_tlc_hourly', 'ushcn_daily', 'weatherbench_daily', 'weatherbench_hourly_10m_u_component_of_wind', 'weatherbench_hourly_10m_v_component_of_wind', 'weatherbench_hourly_2m_temperature', 'weatherbench_hourly_geopotential', 'weatherbench_hourly_potential_vorticity', 'weatherbench_hourly_relative_humidity', 'weatherbench_hourly_specific_humidity', 'weatherbench_hourly_temperature', 'weatherbench_hourly_toa_incident_solar_radiation', 'weatherbench_hourly_total_cloud_cover', 'weatherbench_hourly_total_precipitation', 'weatherbench_hourly_u_component_of_wind', 'weatherbench_hourly_v_component_of_wind', 'weatherbench_hourly_vorticity', 'weatherbench_weekly', 'wiki_daily_100k', 'wind_farms_daily', 'wind_farms_hourly']\n",
      "Loading datasets:  60%|████████████████▏          | 3/5 [00:07<00:04,  2.11s/it]\n",
      "Loading dataset: weather\n",
      "Warning: Could not load dataset weather: BuilderConfig 'weather' not found. Available: ['dominick', 'electricity_15min', 'ercot', 'exchange_rate', 'm4_daily', 'm4_hourly', 'm4_monthly', 'm4_quarterly', 'm4_weekly', 'm4_yearly', 'm5', 'mexico_city_bikes', 'monash_australian_electricity', 'monash_car_parts', 'monash_cif_2016', 'monash_covid_deaths', 'monash_electricity_hourly', 'monash_electricity_weekly', 'monash_fred_md', 'monash_hospital', 'monash_kdd_cup_2018', 'monash_london_smart_meters', 'monash_m1_monthly', 'monash_m1_quarterly', 'monash_m1_yearly', 'monash_m3_monthly', 'monash_m3_quarterly', 'monash_m3_yearly', 'monash_nn5_weekly', 'monash_pedestrian_counts', 'monash_rideshare', 'monash_saugeenday', 'monash_temperature_rain', 'monash_tourism_monthly', 'monash_tourism_quarterly', 'monash_tourism_yearly', 'monash_traffic', 'monash_weather', 'nn5', 'solar', 'solar_1h', 'taxi_1h', 'taxi_30min', 'training_corpus_kernel_synth_1m', 'training_corpus_tsmixup_10m', 'uber_tlc_daily', 'uber_tlc_hourly', 'ushcn_daily', 'weatherbench_daily', 'weatherbench_hourly_10m_u_component_of_wind', 'weatherbench_hourly_10m_v_component_of_wind', 'weatherbench_hourly_2m_temperature', 'weatherbench_hourly_geopotential', 'weatherbench_hourly_potential_vorticity', 'weatherbench_hourly_relative_humidity', 'weatherbench_hourly_specific_humidity', 'weatherbench_hourly_temperature', 'weatherbench_hourly_toa_incident_solar_radiation', 'weatherbench_hourly_total_cloud_cover', 'weatherbench_hourly_total_precipitation', 'weatherbench_hourly_u_component_of_wind', 'weatherbench_hourly_v_component_of_wind', 'weatherbench_hourly_vorticity', 'weatherbench_weekly', 'wiki_daily_100k', 'wind_farms_daily', 'wind_farms_hourly']\n",
      "Loading datasets:  80%|█████████████████████▌     | 4/5 [00:08<00:01,  1.71s/it]\n",
      "Loading dataset: solar_5min\n",
      "Warning: Could not load dataset solar_5min: BuilderConfig 'solar_5min' not found. Available: ['dominick', 'electricity_15min', 'ercot', 'exchange_rate', 'm4_daily', 'm4_hourly', 'm4_monthly', 'm4_quarterly', 'm4_weekly', 'm4_yearly', 'm5', 'mexico_city_bikes', 'monash_australian_electricity', 'monash_car_parts', 'monash_cif_2016', 'monash_covid_deaths', 'monash_electricity_hourly', 'monash_electricity_weekly', 'monash_fred_md', 'monash_hospital', 'monash_kdd_cup_2018', 'monash_london_smart_meters', 'monash_m1_monthly', 'monash_m1_quarterly', 'monash_m1_yearly', 'monash_m3_monthly', 'monash_m3_quarterly', 'monash_m3_yearly', 'monash_nn5_weekly', 'monash_pedestrian_counts', 'monash_rideshare', 'monash_saugeenday', 'monash_temperature_rain', 'monash_tourism_monthly', 'monash_tourism_quarterly', 'monash_tourism_yearly', 'monash_traffic', 'monash_weather', 'nn5', 'solar', 'solar_1h', 'taxi_1h', 'taxi_30min', 'training_corpus_kernel_synth_1m', 'training_corpus_tsmixup_10m', 'uber_tlc_daily', 'uber_tlc_hourly', 'ushcn_daily', 'weatherbench_daily', 'weatherbench_hourly_10m_u_component_of_wind', 'weatherbench_hourly_10m_v_component_of_wind', 'weatherbench_hourly_2m_temperature', 'weatherbench_hourly_geopotential', 'weatherbench_hourly_potential_vorticity', 'weatherbench_hourly_relative_humidity', 'weatherbench_hourly_specific_humidity', 'weatherbench_hourly_temperature', 'weatherbench_hourly_toa_incident_solar_radiation', 'weatherbench_hourly_total_cloud_cover', 'weatherbench_hourly_total_precipitation', 'weatherbench_hourly_u_component_of_wind', 'weatherbench_hourly_v_component_of_wind', 'weatherbench_hourly_vorticity', 'weatherbench_weekly', 'wiki_daily_100k', 'wind_farms_daily', 'wind_farms_hourly']\n",
      "Loading datasets: 100%|███████████████████████████| 5/5 [00:09<00:00,  1.83s/it]\n",
      "\n",
      "Total series loaded: 414\n",
      "\n",
      "Generating 5 synthetic time series...\n",
      "Generating synthetic data: 100%|████████████████| 5/5 [00:00<00:00, 1272.00it/s]\n",
      "\n",
      "Generating 5 TSMixup augmentations...\n",
      "Generating TSMixup data: 100%|██████████████████| 5/5 [00:00<00:00, 4569.95it/s]\n",
      "\n",
      "Saving datasets...\n",
      "Saved synthetic data to: test_data/synthetic_data.arrow\n",
      "Saved TSMixup data to: test_data/tsmixup_data.arrow\n"
     ]
    }
   ],
   "source": [
    "!python data_generation.py --output-dir ./test_data --n-synthetic 5 --n-mixup 5 --seed 42"
   ]
  },
  {
   "cell_type": "code",
   "execution_count": 5,
   "metadata": {},
   "outputs": [
    {
     "name": "stdout",
     "output_type": "stream",
     "text": [
      "       start                                             target\n",
      "0 2020-01-01  [0.051543307, 0.10415079, 0.45211905, 0.632626...\n",
      "1 2020-01-01  [0.12103986, 0.11927891, 0.22894381, 0.2644930...\n",
      "2 2020-01-01  [-0.14340888, 0.15049244, 0.3399058, 0.2602779...\n",
      "3 2020-01-01  [-0.036189098, 0.019652337, 0.10173758, 0.0025...\n",
      "4 2020-01-01  [0.09183166, -0.03828172, 0.13682875, 0.443427...\n"
     ]
    }
   ],
   "source": [
    "# Using pyarrow\n",
    "import pyarrow.feather as feather\n",
    "df = feather.read_feather('test_data/synthetic_data.arrow')\n",
    "print(df)\n",
    "\n"
   ]
  },
  {
   "cell_type": "code",
   "execution_count": 1,
   "metadata": {},
   "outputs": [],
   "source": [
    "from test_train_incremental import * "
   ]
  },
  {
   "cell_type": "code",
   "execution_count": 2,
   "metadata": {},
   "outputs": [
    {
     "data": {
      "application/vnd.jupyter.widget-view+json": {
       "model_id": "2be931095ca345509e504158dbb19894",
       "version_major": 2,
       "version_minor": 0
      },
      "text/plain": [
       "Loading datasets:   0%|          | 0/5 [00:00<?, ?it/s]"
      ]
     },
     "metadata": {},
     "output_type": "display_data"
    },
    {
     "name": "stdout",
     "output_type": "stream",
     "text": [
      "\n",
      "Loading dataset: electricity_hourly\n",
      "Warning: Could not load dataset electricity_hourly: BuilderConfig 'electricity_hourly' not found. Available: ['dominick', 'electricity_15min', 'ercot', 'exchange_rate', 'm4_daily', 'm4_hourly', 'm4_monthly', 'm4_quarterly', 'm4_weekly', 'm4_yearly', 'm5', 'mexico_city_bikes', 'monash_australian_electricity', 'monash_car_parts', 'monash_cif_2016', 'monash_covid_deaths', 'monash_electricity_hourly', 'monash_electricity_weekly', 'monash_fred_md', 'monash_hospital', 'monash_kdd_cup_2018', 'monash_london_smart_meters', 'monash_m1_monthly', 'monash_m1_quarterly', 'monash_m1_yearly', 'monash_m3_monthly', 'monash_m3_quarterly', 'monash_m3_yearly', 'monash_nn5_weekly', 'monash_pedestrian_counts', 'monash_rideshare', 'monash_saugeenday', 'monash_temperature_rain', 'monash_tourism_monthly', 'monash_tourism_quarterly', 'monash_tourism_yearly', 'monash_traffic', 'monash_weather', 'nn5', 'solar', 'solar_1h', 'taxi_1h', 'taxi_30min', 'training_corpus_kernel_synth_1m', 'training_corpus_tsmixup_10m', 'uber_tlc_daily', 'uber_tlc_hourly', 'ushcn_daily', 'weatherbench_daily', 'weatherbench_hourly_10m_u_component_of_wind', 'weatherbench_hourly_10m_v_component_of_wind', 'weatherbench_hourly_2m_temperature', 'weatherbench_hourly_geopotential', 'weatherbench_hourly_potential_vorticity', 'weatherbench_hourly_relative_humidity', 'weatherbench_hourly_specific_humidity', 'weatherbench_hourly_temperature', 'weatherbench_hourly_toa_incident_solar_radiation', 'weatherbench_hourly_total_cloud_cover', 'weatherbench_hourly_total_precipitation', 'weatherbench_hourly_u_component_of_wind', 'weatherbench_hourly_v_component_of_wind', 'weatherbench_hourly_vorticity', 'weatherbench_weekly', 'wiki_daily_100k', 'wind_farms_daily', 'wind_farms_hourly']\n",
      "\n",
      "Loading dataset: m4_hourly\n",
      "Loaded 414 series from m4_hourly\n",
      "\n",
      "Loading dataset: traffic\n",
      "Warning: Could not load dataset traffic: BuilderConfig 'traffic' not found. Available: ['dominick', 'electricity_15min', 'ercot', 'exchange_rate', 'm4_daily', 'm4_hourly', 'm4_monthly', 'm4_quarterly', 'm4_weekly', 'm4_yearly', 'm5', 'mexico_city_bikes', 'monash_australian_electricity', 'monash_car_parts', 'monash_cif_2016', 'monash_covid_deaths', 'monash_electricity_hourly', 'monash_electricity_weekly', 'monash_fred_md', 'monash_hospital', 'monash_kdd_cup_2018', 'monash_london_smart_meters', 'monash_m1_monthly', 'monash_m1_quarterly', 'monash_m1_yearly', 'monash_m3_monthly', 'monash_m3_quarterly', 'monash_m3_yearly', 'monash_nn5_weekly', 'monash_pedestrian_counts', 'monash_rideshare', 'monash_saugeenday', 'monash_temperature_rain', 'monash_tourism_monthly', 'monash_tourism_quarterly', 'monash_tourism_yearly', 'monash_traffic', 'monash_weather', 'nn5', 'solar', 'solar_1h', 'taxi_1h', 'taxi_30min', 'training_corpus_kernel_synth_1m', 'training_corpus_tsmixup_10m', 'uber_tlc_daily', 'uber_tlc_hourly', 'ushcn_daily', 'weatherbench_daily', 'weatherbench_hourly_10m_u_component_of_wind', 'weatherbench_hourly_10m_v_component_of_wind', 'weatherbench_hourly_2m_temperature', 'weatherbench_hourly_geopotential', 'weatherbench_hourly_potential_vorticity', 'weatherbench_hourly_relative_humidity', 'weatherbench_hourly_specific_humidity', 'weatherbench_hourly_temperature', 'weatherbench_hourly_toa_incident_solar_radiation', 'weatherbench_hourly_total_cloud_cover', 'weatherbench_hourly_total_precipitation', 'weatherbench_hourly_u_component_of_wind', 'weatherbench_hourly_v_component_of_wind', 'weatherbench_hourly_vorticity', 'weatherbench_weekly', 'wiki_daily_100k', 'wind_farms_daily', 'wind_farms_hourly']\n",
      "\n",
      "Loading dataset: weather\n",
      "Warning: Could not load dataset weather: BuilderConfig 'weather' not found. Available: ['dominick', 'electricity_15min', 'ercot', 'exchange_rate', 'm4_daily', 'm4_hourly', 'm4_monthly', 'm4_quarterly', 'm4_weekly', 'm4_yearly', 'm5', 'mexico_city_bikes', 'monash_australian_electricity', 'monash_car_parts', 'monash_cif_2016', 'monash_covid_deaths', 'monash_electricity_hourly', 'monash_electricity_weekly', 'monash_fred_md', 'monash_hospital', 'monash_kdd_cup_2018', 'monash_london_smart_meters', 'monash_m1_monthly', 'monash_m1_quarterly', 'monash_m1_yearly', 'monash_m3_monthly', 'monash_m3_quarterly', 'monash_m3_yearly', 'monash_nn5_weekly', 'monash_pedestrian_counts', 'monash_rideshare', 'monash_saugeenday', 'monash_temperature_rain', 'monash_tourism_monthly', 'monash_tourism_quarterly', 'monash_tourism_yearly', 'monash_traffic', 'monash_weather', 'nn5', 'solar', 'solar_1h', 'taxi_1h', 'taxi_30min', 'training_corpus_kernel_synth_1m', 'training_corpus_tsmixup_10m', 'uber_tlc_daily', 'uber_tlc_hourly', 'ushcn_daily', 'weatherbench_daily', 'weatherbench_hourly_10m_u_component_of_wind', 'weatherbench_hourly_10m_v_component_of_wind', 'weatherbench_hourly_2m_temperature', 'weatherbench_hourly_geopotential', 'weatherbench_hourly_potential_vorticity', 'weatherbench_hourly_relative_humidity', 'weatherbench_hourly_specific_humidity', 'weatherbench_hourly_temperature', 'weatherbench_hourly_toa_incident_solar_radiation', 'weatherbench_hourly_total_cloud_cover', 'weatherbench_hourly_total_precipitation', 'weatherbench_hourly_u_component_of_wind', 'weatherbench_hourly_v_component_of_wind', 'weatherbench_hourly_vorticity', 'weatherbench_weekly', 'wiki_daily_100k', 'wind_farms_daily', 'wind_farms_hourly']\n",
      "\n",
      "Loading dataset: solar_5min\n",
      "Warning: Could not load dataset solar_5min: BuilderConfig 'solar_5min' not found. Available: ['dominick', 'electricity_15min', 'ercot', 'exchange_rate', 'm4_daily', 'm4_hourly', 'm4_monthly', 'm4_quarterly', 'm4_weekly', 'm4_yearly', 'm5', 'mexico_city_bikes', 'monash_australian_electricity', 'monash_car_parts', 'monash_cif_2016', 'monash_covid_deaths', 'monash_electricity_hourly', 'monash_electricity_weekly', 'monash_fred_md', 'monash_hospital', 'monash_kdd_cup_2018', 'monash_london_smart_meters', 'monash_m1_monthly', 'monash_m1_quarterly', 'monash_m1_yearly', 'monash_m3_monthly', 'monash_m3_quarterly', 'monash_m3_yearly', 'monash_nn5_weekly', 'monash_pedestrian_counts', 'monash_rideshare', 'monash_saugeenday', 'monash_temperature_rain', 'monash_tourism_monthly', 'monash_tourism_quarterly', 'monash_tourism_yearly', 'monash_traffic', 'monash_weather', 'nn5', 'solar', 'solar_1h', 'taxi_1h', 'taxi_30min', 'training_corpus_kernel_synth_1m', 'training_corpus_tsmixup_10m', 'uber_tlc_daily', 'uber_tlc_hourly', 'ushcn_daily', 'weatherbench_daily', 'weatherbench_hourly_10m_u_component_of_wind', 'weatherbench_hourly_10m_v_component_of_wind', 'weatherbench_hourly_2m_temperature', 'weatherbench_hourly_geopotential', 'weatherbench_hourly_potential_vorticity', 'weatherbench_hourly_relative_humidity', 'weatherbench_hourly_specific_humidity', 'weatherbench_hourly_temperature', 'weatherbench_hourly_toa_incident_solar_radiation', 'weatherbench_hourly_total_cloud_cover', 'weatherbench_hourly_total_precipitation', 'weatherbench_hourly_u_component_of_wind', 'weatherbench_hourly_v_component_of_wind', 'weatherbench_hourly_vorticity', 'weatherbench_weekly', 'wiki_daily_100k', 'wind_farms_daily', 'wind_farms_hourly']\n",
      "\n",
      "Total series loaded: 414\n"
     ]
    },
    {
     "name": "stderr",
     "output_type": "stream",
     "text": [
      "2024-12-09 18:46:12,913 - /Users/erfanbayat/Documents/chronos-forecasting/scripts/training/train_incremental.py - INFO - Training on 5 series from batch 0\n",
      "max_steps is given, it will override any value given in num_train_epochs\n"
     ]
    },
    {
     "data": {
      "application/vnd.jupyter.widget-view+json": {
       "model_id": "af20eda80e68463cb1b90cb0fcd8790b",
       "version_major": 2,
       "version_minor": 0
      },
      "text/plain": [
       "  0%|          | 0/20 [00:00<?, ?it/s]"
      ]
     },
     "metadata": {},
     "output_type": "display_data"
    },
    {
     "name": "stderr",
     "output_type": "stream",
     "text": [
      "Passing a tuple of `past_key_values` is deprecated and will be removed in Transformers v4.48.0. You should pass an instance of `EncoderDecoderCache` instead, e.g. `past_key_values=EncoderDecoderCache.from_legacy_cache(past_key_values)`.\n"
     ]
    },
    {
     "name": "stdout",
     "output_type": "stream",
     "text": [
      "{'loss': 17.3042, 'grad_norm': 62.666465759277344, 'learning_rate': 9e-05, 'epoch': 0.1}\n",
      "{'loss': 9.4296, 'grad_norm': 98.0556640625, 'learning_rate': 8e-05, 'epoch': 0.2}\n",
      "{'loss': 5.6387, 'grad_norm': 0.0, 'learning_rate': 7e-05, 'epoch': 0.3}\n",
      "{'loss': 8.4308, 'grad_norm': 51.96437454223633, 'learning_rate': 6e-05, 'epoch': 0.4}\n",
      "{'loss': 9.3003, 'grad_norm': 82.4180679321289, 'learning_rate': 5e-05, 'epoch': 0.5}\n",
      "{'loss': 8.2231, 'grad_norm': 40.978824615478516, 'learning_rate': 4e-05, 'epoch': 0.6}\n",
      "{'loss': 6.7533, 'grad_norm': 39.82386016845703, 'learning_rate': 3e-05, 'epoch': 0.7}\n",
      "{'loss': 7.3544, 'grad_norm': 39.83796691894531, 'learning_rate': 2e-05, 'epoch': 0.8}\n",
      "{'loss': 9.5317, 'grad_norm': 92.81340789794922, 'learning_rate': 1e-05, 'epoch': 0.9}\n",
      "{'loss': 10.528, 'grad_norm': 138.52806091308594, 'learning_rate': 0.0, 'epoch': 1.0}\n",
      "{'train_runtime': 7.5719, 'train_samples_per_second': 10.565, 'train_steps_per_second': 2.641, 'train_loss': 9.249412441253662, 'epoch': 1.0}\n"
     ]
    },
    {
     "name": "stderr",
     "output_type": "stream",
     "text": [
      "2024-12-09 18:46:21,734 - /Users/erfanbayat/Documents/chronos-forecasting/scripts/training/train_incremental.py - INFO - Saved final checkpoint to /var/folders/75/98xy4z_n0dz808sky81718640000gn/T/tmpro2tq4ew/output/batch_0/checkpoint-final-batch-0\n",
      "2024-12-09 18:46:21,939 - /Users/erfanbayat/Documents/chronos-forecasting/scripts/training/train_incremental.py - WARNING - No data found in batch 1\n",
      "2024-12-09 18:46:21,945 - test_train_incremental - ERROR - Test failed: Second checkpoint not created at /var/folders/75/98xy4z_n0dz808sky81718640000gn/T/tmpro2tq4ew/output/batch_1/checkpoint-final-batch-1\n"
     ]
    },
    {
     "ename": "AssertionError",
     "evalue": "Second checkpoint not created at /var/folders/75/98xy4z_n0dz808sky81718640000gn/T/tmpro2tq4ew/output/batch_1/checkpoint-final-batch-1",
     "output_type": "error",
     "traceback": [
      "\u001b[0;31m---------------------------------------------------------------------------\u001b[0m",
      "\u001b[0;31mAssertionError\u001b[0m                            Traceback (most recent call last)",
      "Cell \u001b[0;32mIn[2], line 1\u001b[0m\n\u001b[0;32m----> 1\u001b[0m \u001b[43mtest_training_pipeline\u001b[49m\u001b[43m(\u001b[49m\u001b[43m)\u001b[49m\n",
      "File \u001b[0;32m~/Documents/chronos-forecasting/scripts/training/test_train_incremental.py:151\u001b[0m, in \u001b[0;36mtest_training_pipeline\u001b[0;34m()\u001b[0m\n\u001b[1;32m    144\u001b[0m \u001b[38;5;66;03m# Check second checkpoint with correct path\u001b[39;00m\n\u001b[1;32m    145\u001b[0m second_batch_path \u001b[38;5;241m=\u001b[39m (\n\u001b[1;32m    146\u001b[0m     tmp_dir \n\u001b[1;32m    147\u001b[0m     \u001b[38;5;241m/\u001b[39m \u001b[38;5;124m\"\u001b[39m\u001b[38;5;124moutput\u001b[39m\u001b[38;5;124m\"\u001b[39m \n\u001b[1;32m    148\u001b[0m     \u001b[38;5;241m/\u001b[39m \u001b[38;5;124m\"\u001b[39m\u001b[38;5;124mbatch_1\u001b[39m\u001b[38;5;124m\"\u001b[39m \n\u001b[1;32m    149\u001b[0m     \u001b[38;5;241m/\u001b[39m \u001b[38;5;124m\"\u001b[39m\u001b[38;5;124mcheckpoint-final-batch-1\u001b[39m\u001b[38;5;124m\"\u001b[39m\n\u001b[1;32m    150\u001b[0m )\n\u001b[0;32m--> 151\u001b[0m \u001b[38;5;28;01massert\u001b[39;00m second_batch_path\u001b[38;5;241m.\u001b[39mexists(), \u001b[38;5;124mf\u001b[39m\u001b[38;5;124m\"\u001b[39m\u001b[38;5;124mSecond checkpoint not created at \u001b[39m\u001b[38;5;132;01m{\u001b[39;00msecond_batch_path\u001b[38;5;132;01m}\u001b[39;00m\u001b[38;5;124m\"\u001b[39m\n\u001b[1;32m    152\u001b[0m logger\u001b[38;5;241m.\u001b[39minfo(\u001b[38;5;124mf\u001b[39m\u001b[38;5;124m\"\u001b[39m\u001b[38;5;124mSecond batch checkpoint created at \u001b[39m\u001b[38;5;132;01m{\u001b[39;00msecond_batch_path\u001b[38;5;132;01m}\u001b[39;00m\u001b[38;5;124m\"\u001b[39m)\n\u001b[1;32m    154\u001b[0m \u001b[38;5;66;03m# Load final model and try a prediction\u001b[39;00m\n",
      "\u001b[0;31mAssertionError\u001b[0m: Second checkpoint not created at /var/folders/75/98xy4z_n0dz808sky81718640000gn/T/tmpro2tq4ew/output/batch_1/checkpoint-final-batch-1"
     ]
    }
   ],
   "source": [
    "test_training_pipeline()"
   ]
  }
 ],
 "metadata": {
  "kernelspec": {
   "display_name": "base",
   "language": "python",
   "name": "python3"
  },
  "language_info": {
   "codemirror_mode": {
    "name": "ipython",
    "version": 3
   },
   "file_extension": ".py",
   "mimetype": "text/x-python",
   "name": "python",
   "nbconvert_exporter": "python",
   "pygments_lexer": "ipython3",
   "version": "3.11.5"
  }
 },
 "nbformat": 4,
 "nbformat_minor": 2
}
