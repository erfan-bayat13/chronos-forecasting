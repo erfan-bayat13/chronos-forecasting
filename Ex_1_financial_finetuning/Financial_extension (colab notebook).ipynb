{
  "nbformat": 4,
  "nbformat_minor": 0,
  "metadata": {
    "colab": {
      "provenance": []
    },
    "kernelspec": {
      "name": "python3",
      "display_name": "Python 3"
    },
    "language_info": {
      "name": "python"
    }
  },
  "cells": [
    {
      "cell_type": "code",
      "execution_count": null,
      "metadata": {
        "id": "c_ZNr1i_xXD8"
      },
      "outputs": [],
      "source": [
        "from google.colab import drive, runtime\n",
        "drive.mount('/content/drive')"
      ]
    },
    {
      "cell_type": "code",
      "source": [
        "!mkdir /content/data\n",
        "!curl -L -o /content/data/stock-market-data-nifty-100-stocks-5-min-data.zip\\\n",
        "  https://www.kaggle.com/api/v1/datasets/download/debashis74017/stock-market-data-nifty-100-stocks-5-min-data\n",
        "!unzip /content/data/stock-market-data-nifty-100-stocks-5-min-data.zip -d /content/data/ > /dev/null\n",
        "!git clone https://github.com/erfan-bayat13/chronos-forecasting.git\n",
        "%cd chronos-forecasting/\n",
        "!pip install -e /content/chronos-forecasting > /dev/null\n",
        "!pip install gluonts typer accelerate typer_config triton datasets > /dev/null"
      ],
      "metadata": {
        "id": "14O3FqDcxebS"
      },
      "execution_count": null,
      "outputs": []
    },
    {
      "cell_type": "markdown",
      "source": [
        "Create the datasets"
      ],
      "metadata": {
        "id": "M-o5UG_30NMK"
      }
    },
    {
      "cell_type": "code",
      "source": [
        "%run Ex_1_financial_finetuning/mixup.py\n",
        "%run Ex_1_financial_finetuning/GBM_generation.py --seed 42 --no-savefig"
      ],
      "metadata": {
        "id": "Vi4N_Jn2x0MB"
      },
      "execution_count": null,
      "outputs": []
    },
    {
      "cell_type": "markdown",
      "source": [
        "Train the model. This should be done twice, tweaking the `train_financial_mixup.yaml` file in order to change the percentages between real and synthetic data (once with 90% and 10% and the other one with 100% and 0%)."
      ],
      "metadata": {
        "id": "6JaI4Whw0Ro9"
      }
    },
    {
      "cell_type": "code",
      "source": [
        "!python scripts/training/train.py --config Ex_1_financial_finetuning/configs/train_financial_mixup.yaml"
      ],
      "metadata": {
        "id": "6qSn6tMO0E_m"
      },
      "execution_count": null,
      "outputs": []
    },
    {
      "cell_type": "markdown",
      "source": [
        "Optional: visualize training info with Tensorboard"
      ],
      "metadata": {
        "id": "NYnpYIjy02au"
      }
    },
    {
      "cell_type": "code",
      "source": [
        "%load_ext tensorboard\n",
        "%tensorboard --logdir /content/drive/MyDrive/Financial\\ Extension/New\\ Dataset/run-0/logs"
      ],
      "metadata": {
        "id": "f-sfJcUY0uMr"
      },
      "execution_count": null,
      "outputs": []
    },
    {
      "cell_type": "markdown",
      "source": [
        "Evaluate the model. This cell should be run multiple times editing the file `eval_finance_dataset.yaml` changing the offset and the prediction_length. Moreover, one should change the file names each timein order to match this (e.g.\n"
      ],
      "metadata": {
        "id": "Q5okb9hE1CcU"
      }
    },
    {
      "cell_type": "code",
      "source": [
        "!mkdir -p /content/drive/MyDrive/Financial\\ Extension/New\\ Dataset/Results\n",
        "!python Ex_1_financial_finetuning/custom_evaluation.py Ex_1_financial_finetuning/configs/eval_finance_dataset.yaml  /content/drive/MyDrive/Financial\\ Extension/New\\ Dataset/Results/results_before_finetuning_96_pl.csv --chronos-model-id amazon/chronos-t5-tiny\n",
        "!python Ex_1_financial_finetuning/custom_evaluation.py Ex_1_financial_finetuning/configs/eval_finance_dataset.yaml  /content/drive/MyDrive/Financial\\ Extension/New\\ Dataset/Results/results_after_finetuning_10_perc_96_pl.csv --chronos-model-id /content/drive/MyDrive/Financial\\ Extension/New\\ Dataset/run-0/checkpoint-final"
      ],
      "metadata": {
        "id": "hF2754fs1C74"
      },
      "execution_count": null,
      "outputs": []
    },
    {
      "cell_type": "markdown",
      "source": [
        "Make and save plots"
      ],
      "metadata": {
        "id": "EGiNNRhJ3Pg0"
      }
    },
    {
      "cell_type": "code",
      "source": [
        "%run /content/chronos-forecasting/Ex_1_financial_finetuning/make_plots.py\n",
        "%run Ex_1_financial_finetuning/GBM_generation.py --display-first 20 --output-dir /content/data/GBM_synth \\\n",
        "                      --num-series 5000 --seed 42 --steps-in-year 105120 --no-save --savefig --min-initial-price 300 --max-initial-price 300"
      ],
      "metadata": {
        "id": "kYpvruHu3Oiy"
      },
      "execution_count": null,
      "outputs": []
    }
  ]
}